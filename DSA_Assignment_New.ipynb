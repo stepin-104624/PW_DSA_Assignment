{
 "cells": [
  {
   "cell_type": "markdown",
   "id": "711fd8be",
   "metadata": {},
   "source": [
    "1) Find the value of T(2) for the recurrence relation T(n) = 3T(n-1) + 12n, given that T(0)=5."
   ]
  },
  {
   "cell_type": "code",
   "execution_count": 1,
   "id": "3b4a5234",
   "metadata": {},
   "outputs": [
    {
     "data": {
      "text/plain": [
       "'T(0)=5\\nT(n)=3T(n−1)+12n\\nT(0)=5\\nT(1)=3T(0)+12*1 \\nT(1)=15+12\\nT(1)=27\\nT(2)=3T(1)+12×2 (3*27+24)\\nT(2)=105'"
      ]
     },
     "execution_count": 1,
     "metadata": {},
     "output_type": "execute_result"
    }
   ],
   "source": [
    "'''T(0)=5\n",
    "T(n)=3T(n−1)+12n\n",
    "T(0)=5\n",
    "T(1)=3T(0)+12*1 \n",
    "T(1)=15+12\n",
    "T(1)=27\n",
    "T(2)=3T(1)+12×2 (3*27+24)\n",
    "T(2)=105'''"
   ]
  },
  {
   "cell_type": "raw",
   "id": "3d760b84",
   "metadata": {},
   "source": [
    "2. Given a recurrence relation, solve it using the substitution method:\n",
    "a. T(n) = T(n-1) + c\n",
    "b. T(n) = 2T(n/2) + n\n",
    "c. T(n) = 2T(n/2) + c\n",
    "d. T(n) = T(n/2) + c"
   ]
  },
  {
   "cell_type": "code",
   "execution_count": 2,
   "id": "4ff7875f",
   "metadata": {},
   "outputs": [
    {
     "data": {
      "text/plain": [
       "'2a)T(n)=T(0)+n c\\n2b)T(n)=O(nlogn)\\n2c)T(n)=O(n)\\n2d)T(n)=O(logn)'"
      ]
     },
     "execution_count": 2,
     "metadata": {},
     "output_type": "execute_result"
    }
   ],
   "source": [
    "'''2a)T(n)=T(0)+n c\n",
    "2b)T(n)=O(nlogn)\n",
    "2c)T(n)=O(n)\n",
    "2d)T(n)=O(logn)'''"
   ]
  },
  {
   "cell_type": "raw",
   "id": "a8df93bf",
   "metadata": {},
   "source": [
    "3. Given a rec%rrence relation, solve it %sing the rec%rsive tree approach:\n",
    "a. T(n) = 2T(n-1) +1\n",
    "b. T(n) = 2T(n/2) + n"
   ]
  },
  {
   "cell_type": "code",
   "execution_count": 3,
   "id": "be841416",
   "metadata": {},
   "outputs": [
    {
     "data": {
      "text/plain": [
       "'3a)O(2^n)\\n3b)O(n log n)'"
      ]
     },
     "execution_count": 3,
     "metadata": {},
     "output_type": "execute_result"
    }
   ],
   "source": [
    "'''3a)O(2^n)\n",
    "3b)O(n log n)'''"
   ]
  },
  {
   "cell_type": "code",
   "execution_count": null,
   "id": "5e53dfde",
   "metadata": {},
   "outputs": [],
   "source": []
  }
 ],
 "metadata": {
  "kernelspec": {
   "display_name": "Python 3 (ipykernel)",
   "language": "python",
   "name": "python3"
  },
  "language_info": {
   "codemirror_mode": {
    "name": "ipython",
    "version": 3
   },
   "file_extension": ".py",
   "mimetype": "text/x-python",
   "name": "python",
   "nbconvert_exporter": "python",
   "pygments_lexer": "ipython3",
   "version": "3.10.9"
  }
 },
 "nbformat": 4,
 "nbformat_minor": 5
}
